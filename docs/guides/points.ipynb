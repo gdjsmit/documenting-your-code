{
 "cells": [
  {
   "cell_type": "markdown",
   "id": "a8c53840",
   "metadata": {},
   "source": [
    "# Guide to `points.py` module"
   ]
  },
  {
   "cell_type": "code",
   "execution_count": null,
   "id": "0f8f0fb6",
   "metadata": {},
   "outputs": [],
   "source": [
    "from randomly.points import generate_poisson_points"
   ]
  },
  {
   "cell_type": "markdown",
   "id": "71c246e1-1d1a-424b-b469-a4ccba89df0f",
   "metadata": {},
   "source": [
    "This did not work, because of some env issue. Normally, we can write some python code after this, to demonstrate how our module works."
   ]
  },
  {
   "cell_type": "code",
   "execution_count": 1,
   "id": "59e3bea9-b030-43e1-a058-d847d9d2893e",
   "metadata": {},
   "outputs": [],
   "source": [
    "x = 1 + 1"
   ]
  },
  {
   "cell_type": "code",
   "execution_count": 2,
   "id": "d0682acb-8c01-415e-b235-190fcf0af9b4",
   "metadata": {},
   "outputs": [],
   "source": [
    "y = 2 + 3"
   ]
  },
  {
   "cell_type": "code",
   "execution_count": null,
   "id": "d9880055-41fc-4e11-b250-a3220cb36219",
   "metadata": {},
   "outputs": [],
   "source": []
  }
 ],
 "metadata": {
  "kernelspec": {
   "display_name": "Python 3 (ipykernel)",
   "language": "python",
   "name": "python3"
  },
  "language_info": {
   "codemirror_mode": {
    "name": "ipython",
    "version": 3
   },
   "file_extension": ".py",
   "mimetype": "text/x-python",
   "name": "python",
   "nbconvert_exporter": "python",
   "pygments_lexer": "ipython3",
   "version": "3.9.12"
  }
 },
 "nbformat": 4,
 "nbformat_minor": 5
}
